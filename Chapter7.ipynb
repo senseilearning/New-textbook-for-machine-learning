{
 "cells": [
  {
   "cell_type": "code",
   "execution_count": 5,
   "metadata": {},
   "outputs": [],
   "source": [
    "# list 7-1-1\n",
    "import numpy as np\n",
    "# データ生成\n",
    "np.random.seed(seed=1)\n",
    "N = 200\n",
    "K = 3\n",
    "T = np.zeros((N, 3), dtype = np.uint8)\n",
    "X = np.zeros((N, 2))\n",
    "X_range0 = [-3, 3]\n",
    "X_range1 = [-3, 3]\n",
    "Mu = np.array([[-.5, -.5], [.5, 1.0], [1, -.5]])\n",
    "Sig = np.array([[.7, .7], [.8, .3], [.3, .8]])\n",
    "Pi = np.array([0.4, 0.8, 1])\n",
    "\n",
    "for n in range(N):\n",
    "    wk = np.random.rand()\n",
    "    \n",
    "    for k in range(K):\n",
    "        if wk < Pi[k]:\n",
    "            T[n, k] = 1\n",
    "            break\n",
    "            \n",
    "    for k in range(2):\n",
    "        X[n, k] = np.random.randn() * Sig[T[n, :] == 1, k] + Mu[T[n, :] == 1, k]"
   ]
  },
  {
   "cell_type": "code",
   "execution_count": null,
   "metadata": {},
   "outputs": [],
   "source": []
  },
  {
   "cell_type": "code",
   "execution_count": null,
   "metadata": {},
   "outputs": [],
   "source": []
  }
 ],
 "metadata": {
  "kernelspec": {
   "display_name": "Python 3",
   "language": "python",
   "name": "python3"
  },
  "language_info": {
   "codemirror_mode": {
    "name": "ipython",
    "version": 3
   },
   "file_extension": ".py",
   "mimetype": "text/x-python",
   "name": "python",
   "nbconvert_exporter": "python",
   "pygments_lexer": "ipython3",
   "version": "3.6.4"
  }
 },
 "nbformat": 4,
 "nbformat_minor": 2
}
