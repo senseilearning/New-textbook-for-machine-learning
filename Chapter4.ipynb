{
 "cells": [
  {
   "cell_type": "code",
   "execution_count": 1,
   "metadata": {},
   "outputs": [],
   "source": [
    "# list 4-1-1\n",
    "import numpy as np"
   ]
  },
  {
   "cell_type": "code",
   "execution_count": 2,
   "metadata": {},
   "outputs": [
    {
     "name": "stdout",
     "output_type": "stream",
     "text": [
      "[2 1]\n"
     ]
    }
   ],
   "source": [
    "# list 4-1-2\n",
    "a = np.array([2, 1])\n",
    "print(a)"
   ]
  },
  {
   "cell_type": "code",
   "execution_count": 3,
   "metadata": {},
   "outputs": [
    {
     "data": {
      "text/plain": [
       "numpy.ndarray"
      ]
     },
     "execution_count": 3,
     "metadata": {},
     "output_type": "execute_result"
    }
   ],
   "source": [
    "# list 4-1-3\n",
    "type(a)"
   ]
  },
  {
   "cell_type": "code",
   "execution_count": 4,
   "metadata": {},
   "outputs": [
    {
     "name": "stdout",
     "output_type": "stream",
     "text": [
      "[[1 2]\n",
      " [3 4]]\n"
     ]
    }
   ],
   "source": [
    "# list 4-1-4\n",
    "c = np.array([[1, 2], [3, 4]])\n",
    "print(c)"
   ]
  },
  {
   "cell_type": "code",
   "execution_count": 5,
   "metadata": {},
   "outputs": [
    {
     "name": "stdout",
     "output_type": "stream",
     "text": [
      "[[1]\n",
      " [2]]\n"
     ]
    }
   ],
   "source": [
    "# list 4-1-5\n",
    "d = np.array([[1], [2]])\n",
    "print(d)"
   ]
  },
  {
   "cell_type": "code",
   "execution_count": 6,
   "metadata": {},
   "outputs": [
    {
     "name": "stdout",
     "output_type": "stream",
     "text": [
      "[[1 2]]\n"
     ]
    }
   ],
   "source": [
    "# list 4-1-6\n",
    "print(d.T)"
   ]
  },
  {
   "cell_type": "code",
   "execution_count": 7,
   "metadata": {},
   "outputs": [
    {
     "name": "stdout",
     "output_type": "stream",
     "text": [
      "[3 4]\n"
     ]
    }
   ],
   "source": [
    "# list 4-1-7\n",
    "a = np.array([2, 1])\n",
    "b = np.array([1, 3])\n",
    "print(a + b)"
   ]
  },
  {
   "cell_type": "code",
   "execution_count": 8,
   "metadata": {},
   "outputs": [
    {
     "name": "stdout",
     "output_type": "stream",
     "text": [
      "[ 1 -2]\n"
     ]
    }
   ],
   "source": [
    "# list 4-1-8\n",
    "a = np.array([2, 1])\n",
    "b = np.array([1, 3])\n",
    "print(a - b)"
   ]
  },
  {
   "cell_type": "code",
   "execution_count": 9,
   "metadata": {},
   "outputs": [
    {
     "name": "stdout",
     "output_type": "stream",
     "text": [
      "[4 2]\n"
     ]
    }
   ],
   "source": [
    "# list 4-1-9\n",
    "print(2 * a)"
   ]
  },
  {
   "cell_type": "code",
   "execution_count": 10,
   "metadata": {},
   "outputs": [
    {
     "name": "stdout",
     "output_type": "stream",
     "text": [
      "10\n"
     ]
    }
   ],
   "source": [
    "# list 4-1-10\n",
    "b = np.array([1, 3])\n",
    "c = np.array([4, 2])\n",
    "print(b.dot(c))"
   ]
  },
  {
   "cell_type": "code",
   "execution_count": 11,
   "metadata": {},
   "outputs": [
    {
     "name": "stdout",
     "output_type": "stream",
     "text": [
      "3.1622776601683795\n"
     ]
    }
   ],
   "source": [
    "# list 4-1-11\n",
    "a = np.array([1, 3])\n",
    "print(np.linalg.norm(a))"
   ]
  },
  {
   "cell_type": "code",
   "execution_count": 12,
   "metadata": {},
   "outputs": [
    {
     "name": "stdout",
     "output_type": "stream",
     "text": [
      "500500.0\n"
     ]
    }
   ],
   "source": [
    "# list 4-2-1\n",
    "import numpy as np\n",
    "a = np.ones(1000) # [1 1 1 ... 1]\n",
    "b = np.arange(1, 1001) # [1 2 3 ... 1000]\n",
    "print(a.dot(b))"
   ]
  },
  {
   "cell_type": "code",
   "execution_count": 13,
   "metadata": {},
   "outputs": [
    {
     "data": {
      "text/plain": [
       "<matplotlib.figure.Figure at 0x10899ff98>"
      ]
     },
     "metadata": {},
     "output_type": "display_data"
    }
   ],
   "source": [
    "# list 4-2-2\n",
    "import numpy as np\n",
    "import matplotlib.pyplot as plt\n",
    "\n",
    "def f(w0, w1): # ｆの定義\n",
    "    return w0**2 + 2 * w0 * w1 + 3\n",
    "\n",
    "def df_dw0(w0, w1): # fのw0に関する偏微分\n",
    "    return 2 * w0 + 2 * w1\n",
    "\n",
    "def df_dw1(w0, w1): # fのw1に関する偏微分\n",
    "    return 2 * w0 + 0 * w1\n",
    "\n",
    "w_range = 2\n",
    "dw = 0.25\n",
    "\n",
    "w0 = np.arange(-w_range, w_range + dw, dw)\n",
    "w1 = np.arange(-w_range, w_range + dw, dw)\n",
    "wn = w0.shape[0]\n",
    "\n",
    "ww0, ww1 = np.meshgrid(w0, w1)\n",
    "\n",
    "ff = np.zeros((len(w0), len(w1)))\n",
    "dff_dw0 = np.zeros((len(w0), len(w1)))\n",
    "dff_dw1 = np.zeros((len(w0), len(w1)))\n",
    "\n",
    "for i0 in range(wn):\n",
    "    for i1 in range(wn):\n",
    "        ff[i1, i0] = f(w0[i0], w1[i1])\n",
    "        dff_dw0[i1, i0] = df_dw0(w0[i0], w1[i1])\n",
    "        dff_dw1[i1, i0] = df_dw1(w0[i0], w1[i1])\n",
    "        \n",
    "plt.figure(figsize=(9, 4))\n",
    "plt.subplots_adjust(wspace=0.3)\n",
    "plt.subplot(1, 2, 1)\n",
    "cont = plt.contour(ww0, ww1, ff, 10, colors='k') # fの等高線表示\n",
    "cont.clabel(fmt='%2.0f', fontsize=8)\n",
    "plt.xticks(range(-w_range, w_range + 1, 1))\n",
    "plt.yticks(range(-w_range, w_range + 1, 1))\n",
    "plt.xlim(-w_range - 0.5, w_range + .5)\n",
    "plt.ylim(-w_range -.5, w_range + .5)\n",
    "plt.xlabel('$w_0$', fontsize=14)\n",
    "plt.ylabel('$w_1$', fontsize=14)\n",
    "\n",
    "plt.subplot(1, 2, 2)\n",
    "plt.quiver(ww0, ww1, dff_dw0, dff_dw1) # fの勾配のベクトル表示\n",
    "plt.xlabel('$w_0', fontsize=14)\n",
    "plt.ylabel('$w_1', fontsize=14)\n",
    "plt.xticks(range(-w_range, w_range + 1, 1))\n",
    "plt.yticks(range(-w_range, w_range + 1, 1))\n",
    "plt.xlim(-w_range - 0.5, w_range + .5)\n",
    "plt.ylim(-w_range -.5, w_range + .5)\n",
    "plt.show()"
   ]
  },
  {
   "cell_type": "code",
   "execution_count": 14,
   "metadata": {},
   "outputs": [],
   "source": [
    "# list 4-3-1\n",
    "import numpy as np"
   ]
  },
  {
   "cell_type": "code",
   "execution_count": 15,
   "metadata": {},
   "outputs": [
    {
     "name": "stdout",
     "output_type": "stream",
     "text": [
      "[[1 2 3]\n",
      " [4 5 6]]\n"
     ]
    }
   ],
   "source": [
    "# list 4-3-2\n",
    "A = np.array([[1, 2, 3], [4, 5, 6]])\n",
    "print(A)"
   ]
  },
  {
   "cell_type": "code",
   "execution_count": 16,
   "metadata": {},
   "outputs": [
    {
     "name": "stdout",
     "output_type": "stream",
     "text": [
      "[[ 7  8  9]\n",
      " [10 11 12]]\n"
     ]
    }
   ],
   "source": [
    "# list 4-3-3\n",
    "B = np.array([[7, 8, 9], [10, 11, 12]])\n",
    "print(B)"
   ]
  },
  {
   "cell_type": "code",
   "execution_count": 17,
   "metadata": {},
   "outputs": [
    {
     "name": "stdout",
     "output_type": "stream",
     "text": [
      "[[ 8 10 12]\n",
      " [14 16 18]]\n",
      "[[-6 -6 -6]\n",
      " [-6 -6 -6]]\n"
     ]
    }
   ],
   "source": [
    "# list 4-3-4\n",
    "print(A + B)\n",
    "print(A - B)"
   ]
  },
  {
   "cell_type": "code",
   "execution_count": 18,
   "metadata": {},
   "outputs": [
    {
     "name": "stdout",
     "output_type": "stream",
     "text": [
      "[[ 2  4  6]\n",
      " [ 8 10 12]]\n"
     ]
    }
   ],
   "source": [
    "# list 4-3-5\n",
    "A = np.array([[1, 2, 3], [4, 5, 6]])\n",
    "print(2 * A)"
   ]
  },
  {
   "cell_type": "code",
   "execution_count": 19,
   "metadata": {},
   "outputs": [
    {
     "name": "stdout",
     "output_type": "stream",
     "text": [
      "32\n"
     ]
    }
   ],
   "source": [
    "# list 4-3-6\n",
    "A = np.array([1, 2, 3])\n",
    "B = np.array([4, 5, 6])\n",
    "print(A.dot(B))"
   ]
  },
  {
   "cell_type": "code",
   "execution_count": 20,
   "metadata": {},
   "outputs": [
    {
     "name": "stdout",
     "output_type": "stream",
     "text": [
      "[ 4 10 18]\n"
     ]
    }
   ],
   "source": [
    "# list 4-3-7\n",
    "A = np.array([1, 2, 3])\n",
    "B = np.array([4, 5, 6])\n",
    "print(A * B)"
   ]
  },
  {
   "cell_type": "code",
   "execution_count": 21,
   "metadata": {},
   "outputs": [
    {
     "name": "stdout",
     "output_type": "stream",
     "text": [
      "[0.25 0.4  0.5 ]\n"
     ]
    }
   ],
   "source": [
    "# list 4-3-8\n",
    "A = np.array([1, 2, 3])\n",
    "B = np.array([4, 5, 6])\n",
    "print(A / B)"
   ]
  },
  {
   "cell_type": "code",
   "execution_count": 22,
   "metadata": {},
   "outputs": [
    {
     "name": "stdout",
     "output_type": "stream",
     "text": [
      "[[ 32 -32]\n",
      " [-32  32]]\n"
     ]
    }
   ],
   "source": [
    "# list 4-3-9\n",
    "A = np.array([[1, 2, 3], [-1, -2, -3]])\n",
    "B = np.array([[4, -4], [5, -5], [6, -6]])\n",
    "print(A.dot(B))"
   ]
  },
  {
   "cell_type": "code",
   "execution_count": 23,
   "metadata": {},
   "outputs": [
    {
     "name": "stdout",
     "output_type": "stream",
     "text": [
      "[[1. 0. 0.]\n",
      " [0. 1. 0.]\n",
      " [0. 0. 1.]]\n"
     ]
    }
   ],
   "source": [
    "# list 4-3-10\n",
    "print(np.identity(3))"
   ]
  },
  {
   "cell_type": "code",
   "execution_count": 24,
   "metadata": {},
   "outputs": [
    {
     "name": "stdout",
     "output_type": "stream",
     "text": [
      "[[1. 2. 3.]\n",
      " [4. 5. 6.]\n",
      " [7. 8. 9.]]\n"
     ]
    }
   ],
   "source": [
    "# list 4-3-11\n",
    "A = np.array([[1, 2, 3], [4, 5, 6], [7, 8, 9]])\n",
    "I = np.identity(3)\n",
    "print(A.dot(I))"
   ]
  },
  {
   "cell_type": "code",
   "execution_count": 25,
   "metadata": {},
   "outputs": [
    {
     "name": "stdout",
     "output_type": "stream",
     "text": [
      "[[-2.   1. ]\n",
      " [ 1.5 -0.5]]\n"
     ]
    }
   ],
   "source": [
    "# list 4-3-12\n",
    "A = np.array([[1, 2], [3, 4]])\n",
    "invA = np.linalg.inv(A)\n",
    "print(invA)"
   ]
  },
  {
   "cell_type": "code",
   "execution_count": 26,
   "metadata": {},
   "outputs": [
    {
     "name": "stdout",
     "output_type": "stream",
     "text": [
      "[[1 2 3]\n",
      " [4 5 6]]\n",
      "[[1 4]\n",
      " [2 5]\n",
      " [3 6]]\n"
     ]
    }
   ],
   "source": [
    "# list 4-3-13\n",
    "A = np.array([[1, 2, 3], [4, 5, 6]])\n",
    "print(A)\n",
    "print(A.T)"
   ]
  },
  {
   "cell_type": "code",
   "execution_count": 27,
   "metadata": {},
   "outputs": [
    {
     "data": {
      "image/png": "[encoded data removed]",
      "text/plain": [
       "<matplotlib.figure.Figure at 0x108780ef0>"
      ]
     },
     "metadata": {},
     "output_type": "display_data"
    }
   ],
   "source": [
    "# list 4-4-1\n",
    "import numpy as np\n",
    "import matplotlib.pyplot as plt\n",
    "\n",
    "%matplotlib inline\n",
    "\n",
    "x = np.linspace(-4, 4, 100)\n",
    "y = 2**x\n",
    "y2 = 3**x\n",
    "y3 = 0.5**x\n",
    "\n",
    "plt.figure(figsize=(5, 5))\n",
    "plt.plot(x, y, 'black', linewidth = 3, label = '$y=2^x$')\n",
    "plt.plot(x, y2, 'cornflowerblue', linewidth=3, label = '$y=3^x$')\n",
    "plt.plot(x, y3, 'gray', linewidth=3, label = '$y = 0.5^x$')\n",
    "plt.ylim(-2, 6)\n",
    "plt.xlim(-4, 4)\n",
    "plt.grid(True)\n",
    "plt.legend(loc='lower right')\n",
    "plt.show()"
   ]
  },
  {
   "cell_type": "code",
   "execution_count": 28,
   "metadata": {},
   "outputs": [
    {
     "data": {
      "image/png": "[encoded data removed]",
      "text/plain": [
       "<matplotlib.figure.Figure at 0x109978048>"
      ]
     },
     "metadata": {},
     "output_type": "display_data"
    }
   ],
   "source": [
    "# list 4-4-2\n",
    "x = np.linspace(-8, 8, 100)\n",
    "y = 2**x\n",
    "\n",
    "x2 = np.linspace(0.001, 8, 100) # np.log(0)はエラーになるので0は含めない\n",
    "y2 = np.log(x2) / np.log(2)\n",
    "\n",
    "plt.figure(figsize=(5, 5))\n",
    "plt.plot(x, y, 'black', linewidth = 3)\n",
    "plt.plot(x2, y2, 'cornflowerblue', linewidth = 3)\n",
    "plt.plot(x, x, 'black', linestyle='--', linewidth=1)\n",
    "plt.ylim(-8, 8)\n",
    "plt.xlim(-8, 8)\n",
    "plt.grid(True)\n",
    "plt.show()"
   ]
  },
  {
   "cell_type": "code",
   "execution_count": 29,
   "metadata": {},
   "outputs": [
    {
     "data": {
      "image/png": "[encoded data removed]",
      "text/plain": [
       "<matplotlib.figure.Figure at 0x109976048>"
      ]
     },
     "metadata": {},
     "output_type": "display_data"
    }
   ],
   "source": [
    "# list 4-4-3\n",
    "x = np.linspace(-4, 4, 100)\n",
    "y = (x - 1)**2 + 2\n",
    "\n",
    "logy = np.log(y)\n",
    "\n",
    "plt.figure(figsize=(4, 4))\n",
    "plt.plot(x, y, 'black', linewidth=3)\n",
    "plt.plot(x, logy, 'cornflowerblue', linewidth=3)\n",
    "plt.yticks(range(-4, 9, 1))\n",
    "plt.xticks(range(-4, 5, 1))\n",
    "plt.ylim(-4, 8)\n",
    "plt.xlim(-4, 4)\n",
    "plt.grid(True)\n",
    "plt.show()"
   ]
  },
  {
   "cell_type": "code",
   "execution_count": 30,
   "metadata": {},
   "outputs": [
    {
     "data": {
      "image/png": "[encoded data removed]",
      "text/plain": [
       "<matplotlib.figure.Figure at 0x109aacb38>"
      ]
     },
     "metadata": {},
     "output_type": "display_data"
    }
   ],
   "source": [
    "# list 4-4-4\n",
    "x = np.linspace(-4, 4, 100)\n",
    "a = 2\n",
    "y = a**x\n",
    "dy = np.log(a) * y\n",
    "\n",
    "plt.figure(figsize=(4, 4))\n",
    "plt.plot(x, y, 'gray', linestyle='--', linewidth=3)\n",
    "plt.plot(x, dy, color='black', linewidth=3)\n",
    "plt.ylim(-1, 8)\n",
    "plt.xlim(-4, 4)\n",
    "plt.grid(True)\n",
    "plt.show()"
   ]
  },
  {
   "cell_type": "code",
   "execution_count": null,
   "metadata": {},
   "outputs": [],
   "source": []
  }
 ],
 "metadata": {
  "kernelspec": {
   "display_name": "Python 3",
   "language": "python",
   "name": "python3"
  },
  "language_info": {
   "codemirror_mode": {
    "name": "ipython",
    "version": 3
   },
   "file_extension": ".py",
   "mimetype": "text/x-python",
   "name": "python",
   "nbconvert_exporter": "python",
   "pygments_lexer": "ipython3",
   "version": "3.6.4"
  }
 },
 "nbformat": 4,
 "nbformat_minor": 2
}
