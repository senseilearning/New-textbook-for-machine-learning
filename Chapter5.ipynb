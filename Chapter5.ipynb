{
 "cells": [
  {
   "cell_type": "code",
   "execution_count": 3,
   "metadata": {},
   "outputs": [],
   "source": [
    "# list 5-1-1\n",
    "import numpy as np\n",
    "import matplotlib.pyplot as plt\n",
    "%matplotlib inline\n",
    "\n",
    "# データ生成\n",
    "np.random.seed(seed=1)\n",
    "X_min = 4\n",
    "X_max = 30\n",
    "X_n = 16\n",
    "X = 5 + 25 * np.random.rand(X_n)\n",
    "\n",
    "Prm_c = [170, 108, 0.2]\n",
    "T = Prm_c[0] - Prm_c[1] * np.exp(-Prm_c[2] * X) + 4 * np.random.randn(X_n)\n",
    "\n",
    "np.savez('ch5_data.npz', X=X, X_min=X_min, X_max=X_max, X_n=X_n, T=T)"
   ]
  },
  {
   "cell_type": "code",
   "execution_count": 4,
   "metadata": {},
   "outputs": [
    {
     "name": "stdout",
     "output_type": "stream",
     "text": [
      "[15.42555012 23.00811234  5.00285937 12.55831432  8.66889727  7.30846487\n",
      "  9.65650528 13.63901818 14.91918686 18.47041835 15.47986286 22.13048751\n",
      " 10.11130624 26.95293591  5.68468983 21.76168775]\n"
     ]
    }
   ],
   "source": [
    "# list 5-1-2\n",
    "print(X)"
   ]
  },
  {
   "cell_type": "code",
   "execution_count": 5,
   "metadata": {},
   "outputs": [
    {
     "name": "stdout",
     "output_type": "stream",
     "text": [
      "[15.43 23.01  5.   12.56  8.67  7.31  9.66 13.64 14.92 18.47 15.48 22.13\n",
      " 10.11 26.95  5.68 21.76]\n"
     ]
    }
   ],
   "source": [
    "# list 5-1-3\n",
    "print(np.round(X,2))"
   ]
  },
  {
   "cell_type": "code",
   "execution_count": null,
   "metadata": {},
   "outputs": [],
   "source": []
  }
 ],
 "metadata": {
  "kernelspec": {
   "display_name": "Python 3",
   "language": "python",
   "name": "python3"
  },
  "language_info": {
   "codemirror_mode": {
    "name": "ipython",
    "version": 3
   },
   "file_extension": ".py",
   "mimetype": "text/x-python",
   "name": "python",
   "nbconvert_exporter": "python",
   "pygments_lexer": "ipython3",
   "version": "3.6.4"
  }
 },
 "nbformat": 4,
 "nbformat_minor": 2
}
