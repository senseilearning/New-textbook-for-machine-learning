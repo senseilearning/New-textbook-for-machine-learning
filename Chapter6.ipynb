{
 "cells": [
  {
   "cell_type": "code",
   "execution_count": 2,
   "metadata": {},
   "outputs": [
    {
     "name": "stdout",
     "output_type": "stream",
     "text": [
      "X=[1.94 1.67 0.92 1.11 1.41 1.65 2.28 0.47 1.07 2.19 2.08 1.02 0.91 1.16\n",
      " 1.46 1.02 0.85 0.89 1.79 1.89 0.75 0.9  1.87 0.5  0.69 1.5  0.96 0.53\n",
      " 1.21 0.6 ]\n",
      "T=[1 1 0 0 1 1 1 0 0 1 1 0 0 0 1 0 0 0 1 1 0 1 1 0 0 1 1 0 1 0]\n"
     ]
    }
   ],
   "source": [
    "# list 6-1-1\n",
    "import numpy as np\n",
    "import matplotlib.pyplot as plt\n",
    "%matplotlib inline\n",
    "\n",
    "# データ生成\n",
    "np.random.seed(seed=0) # 乱数を固定\n",
    "X_min = 0\n",
    "X_max = 2.5\n",
    "X_n = 30\n",
    "X_col = ['cornflowerblue', 'gray']\n",
    "X = np.zeros(X_n) # 入力データ\n",
    "T = np.zeros(X_n, dtype = np.uint8) # 目標データ\n",
    "Dist_s = [0.4, 0.8] # 分布の開始地点\n",
    "Dist_w = [0.8, 1.6] # 分布の幅\n",
    "Pi = 0.5 # クラス0の比率\n",
    "\n",
    "for n in range(X_n):\n",
    "    wk = np.random.rand()\n",
    "    T[n] = 0 * (wk < Pi) + 1 * (wk >= Pi)\n",
    "    X[n] = np.random.rand() * Dist_w[T[n]] + Dist_s[T[n]]\n",
    "    \n",
    "# データ表示\n",
    "print('X=' + str(np.round(X, 2)))\n",
    "print('T=' + str(T))"
   ]
  },
  {
   "cell_type": "code",
   "execution_count": null,
   "metadata": {},
   "outputs": [],
   "source": []
  }
 ],
 "metadata": {
  "kernelspec": {
   "display_name": "Python 3",
   "language": "python",
   "name": "python3"
  },
  "language_info": {
   "codemirror_mode": {
    "name": "ipython",
    "version": 3
   },
   "file_extension": ".py",
   "mimetype": "text/x-python",
   "name": "python",
   "nbconvert_exporter": "python",
   "pygments_lexer": "ipython3",
   "version": "3.6.4"
  }
 },
 "nbformat": 4,
 "nbformat_minor": 2
}
